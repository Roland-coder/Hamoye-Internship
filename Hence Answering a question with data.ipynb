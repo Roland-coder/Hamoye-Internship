{
 "cells": [
  {
   "cell_type": "markdown",
   "metadata": {},
   "source": [
    "# Hence Screening Project\n",
    "## Project Category 2: Option 1\n",
    "### Answering A Question With Data\n",
    "\n",
    "#### Problem Scope: \n",
    "\n",
    "In this project, I will be analysing airbnb data for New York City in 2019 and aswering a question that can be used by the apprioprate stakeholders for decision msking,\n",
    "The source of the data is from kaggle and can be found here https://www.kaggle.com/dgomonov/new-york-city-airbnb-open-data\n",
    "\n",
    "Context: Airbnb is a house rental platform, where landlords or house owners put up their houses for lease and customers or clients can book them directly from the platform currently operating in over 100,000 cities and 220 countries worldwide.\n",
    "\n",
    "The main question I will be trying to answer in this process is:\n",
    "\n",
    "#### What are the top 3 neighborhoods that are able to host people for longer period of time and the top three neighborhood by room types  that these people use while in this location? \n",
    "\n",
    "\n",
    "This question is mainly for people who probably want places where they can lodge for a very long time and they dont want a situation where they may eventually be disturbed during their stay hence are looking for locations that have a track record of keeping people in for longer period of time and also one may have their prefernces as to what kind of room they would love to lodge in hence I believe this would help in making better decsions\n",
    "\n",
    "By the end of this project, I expect to group the dataset by the different neighboorhood categories and by their room type  that have been able to lodge more people over time\n",
    "\n",
    "Also, just to add on, I will also just add the average prices in these different locations such that people have a broader perspective when trying to eventually come up with their final decision\n",
    "\n",
    "\n"
   ]
  },
  {
   "cell_type": "code",
   "execution_count": 32,
   "metadata": {},
   "outputs": [],
   "source": [
    "#importing the different libraries that will be used to explore the data and answer the questions needed\n",
    "import pandas as pd\n",
    "import numpy as np\n",
    "import matplotlib.pyplot as plt\n"
   ]
  },
  {
   "cell_type": "code",
   "execution_count": 33,
   "metadata": {},
   "outputs": [],
   "source": [
    "#Loading the dataset\n",
    "\n",
    "df = pd.read_csv('AB_NYC_2019.csv')"
   ]
  },
  {
   "cell_type": "code",
   "execution_count": 34,
   "metadata": {},
   "outputs": [
    {
     "data": {
      "text/html": [
       "<div>\n",
       "<style scoped>\n",
       "    .dataframe tbody tr th:only-of-type {\n",
       "        vertical-align: middle;\n",
       "    }\n",
       "\n",
       "    .dataframe tbody tr th {\n",
       "        vertical-align: top;\n",
       "    }\n",
       "\n",
       "    .dataframe thead th {\n",
       "        text-align: right;\n",
       "    }\n",
       "</style>\n",
       "<table border=\"1\" class=\"dataframe\">\n",
       "  <thead>\n",
       "    <tr style=\"text-align: right;\">\n",
       "      <th></th>\n",
       "      <th>id</th>\n",
       "      <th>name</th>\n",
       "      <th>host_id</th>\n",
       "      <th>host_name</th>\n",
       "      <th>neighbourhood_group</th>\n",
       "      <th>neighbourhood</th>\n",
       "      <th>latitude</th>\n",
       "      <th>longitude</th>\n",
       "      <th>room_type</th>\n",
       "      <th>price</th>\n",
       "      <th>minimum_nights</th>\n",
       "      <th>number_of_reviews</th>\n",
       "      <th>last_review</th>\n",
       "      <th>reviews_per_month</th>\n",
       "      <th>calculated_host_listings_count</th>\n",
       "      <th>availability_365</th>\n",
       "    </tr>\n",
       "  </thead>\n",
       "  <tbody>\n",
       "    <tr>\n",
       "      <th>0</th>\n",
       "      <td>2539</td>\n",
       "      <td>Clean &amp; quiet apt home by the park</td>\n",
       "      <td>2787</td>\n",
       "      <td>John</td>\n",
       "      <td>Brooklyn</td>\n",
       "      <td>Kensington</td>\n",
       "      <td>40.64749</td>\n",
       "      <td>-73.97237</td>\n",
       "      <td>Private room</td>\n",
       "      <td>149</td>\n",
       "      <td>1</td>\n",
       "      <td>9</td>\n",
       "      <td>2018-10-19</td>\n",
       "      <td>0.21</td>\n",
       "      <td>6</td>\n",
       "      <td>365</td>\n",
       "    </tr>\n",
       "    <tr>\n",
       "      <th>1</th>\n",
       "      <td>2595</td>\n",
       "      <td>Skylit Midtown Castle</td>\n",
       "      <td>2845</td>\n",
       "      <td>Jennifer</td>\n",
       "      <td>Manhattan</td>\n",
       "      <td>Midtown</td>\n",
       "      <td>40.75362</td>\n",
       "      <td>-73.98377</td>\n",
       "      <td>Entire home/apt</td>\n",
       "      <td>225</td>\n",
       "      <td>1</td>\n",
       "      <td>45</td>\n",
       "      <td>2019-05-21</td>\n",
       "      <td>0.38</td>\n",
       "      <td>2</td>\n",
       "      <td>355</td>\n",
       "    </tr>\n",
       "    <tr>\n",
       "      <th>2</th>\n",
       "      <td>3647</td>\n",
       "      <td>THE VILLAGE OF HARLEM....NEW YORK !</td>\n",
       "      <td>4632</td>\n",
       "      <td>Elisabeth</td>\n",
       "      <td>Manhattan</td>\n",
       "      <td>Harlem</td>\n",
       "      <td>40.80902</td>\n",
       "      <td>-73.94190</td>\n",
       "      <td>Private room</td>\n",
       "      <td>150</td>\n",
       "      <td>3</td>\n",
       "      <td>0</td>\n",
       "      <td>NaN</td>\n",
       "      <td>NaN</td>\n",
       "      <td>1</td>\n",
       "      <td>365</td>\n",
       "    </tr>\n",
       "    <tr>\n",
       "      <th>3</th>\n",
       "      <td>3831</td>\n",
       "      <td>Cozy Entire Floor of Brownstone</td>\n",
       "      <td>4869</td>\n",
       "      <td>LisaRoxanne</td>\n",
       "      <td>Brooklyn</td>\n",
       "      <td>Clinton Hill</td>\n",
       "      <td>40.68514</td>\n",
       "      <td>-73.95976</td>\n",
       "      <td>Entire home/apt</td>\n",
       "      <td>89</td>\n",
       "      <td>1</td>\n",
       "      <td>270</td>\n",
       "      <td>2019-07-05</td>\n",
       "      <td>4.64</td>\n",
       "      <td>1</td>\n",
       "      <td>194</td>\n",
       "    </tr>\n",
       "    <tr>\n",
       "      <th>4</th>\n",
       "      <td>5022</td>\n",
       "      <td>Entire Apt: Spacious Studio/Loft by central park</td>\n",
       "      <td>7192</td>\n",
       "      <td>Laura</td>\n",
       "      <td>Manhattan</td>\n",
       "      <td>East Harlem</td>\n",
       "      <td>40.79851</td>\n",
       "      <td>-73.94399</td>\n",
       "      <td>Entire home/apt</td>\n",
       "      <td>80</td>\n",
       "      <td>10</td>\n",
       "      <td>9</td>\n",
       "      <td>2018-11-19</td>\n",
       "      <td>0.10</td>\n",
       "      <td>1</td>\n",
       "      <td>0</td>\n",
       "    </tr>\n",
       "  </tbody>\n",
       "</table>\n",
       "</div>"
      ],
      "text/plain": [
       "     id                                              name  host_id  \\\n",
       "0  2539                Clean & quiet apt home by the park     2787   \n",
       "1  2595                             Skylit Midtown Castle     2845   \n",
       "2  3647               THE VILLAGE OF HARLEM....NEW YORK !     4632   \n",
       "3  3831                   Cozy Entire Floor of Brownstone     4869   \n",
       "4  5022  Entire Apt: Spacious Studio/Loft by central park     7192   \n",
       "\n",
       "     host_name neighbourhood_group neighbourhood  latitude  longitude  \\\n",
       "0         John            Brooklyn    Kensington  40.64749  -73.97237   \n",
       "1     Jennifer           Manhattan       Midtown  40.75362  -73.98377   \n",
       "2    Elisabeth           Manhattan        Harlem  40.80902  -73.94190   \n",
       "3  LisaRoxanne            Brooklyn  Clinton Hill  40.68514  -73.95976   \n",
       "4        Laura           Manhattan   East Harlem  40.79851  -73.94399   \n",
       "\n",
       "         room_type  price  minimum_nights  number_of_reviews last_review  \\\n",
       "0     Private room    149               1                  9  2018-10-19   \n",
       "1  Entire home/apt    225               1                 45  2019-05-21   \n",
       "2     Private room    150               3                  0         NaN   \n",
       "3  Entire home/apt     89               1                270  2019-07-05   \n",
       "4  Entire home/apt     80              10                  9  2018-11-19   \n",
       "\n",
       "   reviews_per_month  calculated_host_listings_count  availability_365  \n",
       "0               0.21                               6               365  \n",
       "1               0.38                               2               355  \n",
       "2                NaN                               1               365  \n",
       "3               4.64                               1               194  \n",
       "4               0.10                               1                 0  "
      ]
     },
     "execution_count": 34,
     "metadata": {},
     "output_type": "execute_result"
    }
   ],
   "source": [
    "# Viewing the top portion of the dataset\n",
    "df.head()"
   ]
  },
  {
   "cell_type": "code",
   "execution_count": 62,
   "metadata": {},
   "outputs": [
    {
     "data": {
      "text/plain": [
       "Index(['id', 'host_id', 'neighbourhood_group', 'neighbourhood', 'latitude',\n",
       "       'longitude', 'room_type', 'price', 'minimum_nights',\n",
       "       'number_of_reviews', 'calculated_host_listings_count',\n",
       "       'availability_365'],\n",
       "      dtype='object')"
      ]
     },
     "execution_count": 62,
     "metadata": {},
     "output_type": "execute_result"
    }
   ],
   "source": [
    "# Looking at the different columns in the dataset just to have an idea about what I am working with\n",
    "df.columns"
   ]
  },
  {
   "cell_type": "code",
   "execution_count": 35,
   "metadata": {},
   "outputs": [
    {
     "data": {
      "text/plain": [
       "(48895, 16)"
      ]
     },
     "execution_count": 35,
     "metadata": {},
     "output_type": "execute_result"
    }
   ],
   "source": [
    "# Getting the shape of the data\n",
    "df.shape"
   ]
  },
  {
   "cell_type": "markdown",
   "metadata": {},
   "source": [
    "Dataframe currently has 48895 rows and 16 columns"
   ]
  },
  {
   "cell_type": "code",
   "execution_count": 36,
   "metadata": {},
   "outputs": [
    {
     "data": {
      "text/plain": [
       "id                                  int64\n",
       "name                               object\n",
       "host_id                             int64\n",
       "host_name                          object\n",
       "neighbourhood_group                object\n",
       "neighbourhood                      object\n",
       "latitude                          float64\n",
       "longitude                         float64\n",
       "room_type                          object\n",
       "price                               int64\n",
       "minimum_nights                      int64\n",
       "number_of_reviews                   int64\n",
       "last_review                        object\n",
       "reviews_per_month                 float64\n",
       "calculated_host_listings_count      int64\n",
       "availability_365                    int64\n",
       "dtype: object"
      ]
     },
     "execution_count": 36,
     "metadata": {},
     "output_type": "execute_result"
    }
   ],
   "source": [
    "df.dtypes"
   ]
  },
  {
   "cell_type": "code",
   "execution_count": 37,
   "metadata": {},
   "outputs": [
    {
     "data": {
      "text/html": [
       "<div>\n",
       "<style scoped>\n",
       "    .dataframe tbody tr th:only-of-type {\n",
       "        vertical-align: middle;\n",
       "    }\n",
       "\n",
       "    .dataframe tbody tr th {\n",
       "        vertical-align: top;\n",
       "    }\n",
       "\n",
       "    .dataframe thead th {\n",
       "        text-align: right;\n",
       "    }\n",
       "</style>\n",
       "<table border=\"1\" class=\"dataframe\">\n",
       "  <thead>\n",
       "    <tr style=\"text-align: right;\">\n",
       "      <th></th>\n",
       "      <th>id</th>\n",
       "      <th>host_id</th>\n",
       "      <th>latitude</th>\n",
       "      <th>longitude</th>\n",
       "      <th>price</th>\n",
       "      <th>minimum_nights</th>\n",
       "      <th>number_of_reviews</th>\n",
       "      <th>reviews_per_month</th>\n",
       "      <th>calculated_host_listings_count</th>\n",
       "      <th>availability_365</th>\n",
       "    </tr>\n",
       "  </thead>\n",
       "  <tbody>\n",
       "    <tr>\n",
       "      <th>count</th>\n",
       "      <td>4.889500e+04</td>\n",
       "      <td>4.889500e+04</td>\n",
       "      <td>48895.000000</td>\n",
       "      <td>48895.000000</td>\n",
       "      <td>48895.000000</td>\n",
       "      <td>48895.000000</td>\n",
       "      <td>48895.000000</td>\n",
       "      <td>38843.000000</td>\n",
       "      <td>48895.000000</td>\n",
       "      <td>48895.000000</td>\n",
       "    </tr>\n",
       "    <tr>\n",
       "      <th>mean</th>\n",
       "      <td>1.901714e+07</td>\n",
       "      <td>6.762001e+07</td>\n",
       "      <td>40.728949</td>\n",
       "      <td>-73.952170</td>\n",
       "      <td>152.720687</td>\n",
       "      <td>7.029962</td>\n",
       "      <td>23.274466</td>\n",
       "      <td>1.373221</td>\n",
       "      <td>7.143982</td>\n",
       "      <td>112.781327</td>\n",
       "    </tr>\n",
       "    <tr>\n",
       "      <th>std</th>\n",
       "      <td>1.098311e+07</td>\n",
       "      <td>7.861097e+07</td>\n",
       "      <td>0.054530</td>\n",
       "      <td>0.046157</td>\n",
       "      <td>240.154170</td>\n",
       "      <td>20.510550</td>\n",
       "      <td>44.550582</td>\n",
       "      <td>1.680442</td>\n",
       "      <td>32.952519</td>\n",
       "      <td>131.622289</td>\n",
       "    </tr>\n",
       "    <tr>\n",
       "      <th>min</th>\n",
       "      <td>2.539000e+03</td>\n",
       "      <td>2.438000e+03</td>\n",
       "      <td>40.499790</td>\n",
       "      <td>-74.244420</td>\n",
       "      <td>0.000000</td>\n",
       "      <td>1.000000</td>\n",
       "      <td>0.000000</td>\n",
       "      <td>0.010000</td>\n",
       "      <td>1.000000</td>\n",
       "      <td>0.000000</td>\n",
       "    </tr>\n",
       "    <tr>\n",
       "      <th>25%</th>\n",
       "      <td>9.471945e+06</td>\n",
       "      <td>7.822033e+06</td>\n",
       "      <td>40.690100</td>\n",
       "      <td>-73.983070</td>\n",
       "      <td>69.000000</td>\n",
       "      <td>1.000000</td>\n",
       "      <td>1.000000</td>\n",
       "      <td>0.190000</td>\n",
       "      <td>1.000000</td>\n",
       "      <td>0.000000</td>\n",
       "    </tr>\n",
       "    <tr>\n",
       "      <th>50%</th>\n",
       "      <td>1.967728e+07</td>\n",
       "      <td>3.079382e+07</td>\n",
       "      <td>40.723070</td>\n",
       "      <td>-73.955680</td>\n",
       "      <td>106.000000</td>\n",
       "      <td>3.000000</td>\n",
       "      <td>5.000000</td>\n",
       "      <td>0.720000</td>\n",
       "      <td>1.000000</td>\n",
       "      <td>45.000000</td>\n",
       "    </tr>\n",
       "    <tr>\n",
       "      <th>75%</th>\n",
       "      <td>2.915218e+07</td>\n",
       "      <td>1.074344e+08</td>\n",
       "      <td>40.763115</td>\n",
       "      <td>-73.936275</td>\n",
       "      <td>175.000000</td>\n",
       "      <td>5.000000</td>\n",
       "      <td>24.000000</td>\n",
       "      <td>2.020000</td>\n",
       "      <td>2.000000</td>\n",
       "      <td>227.000000</td>\n",
       "    </tr>\n",
       "    <tr>\n",
       "      <th>max</th>\n",
       "      <td>3.648724e+07</td>\n",
       "      <td>2.743213e+08</td>\n",
       "      <td>40.913060</td>\n",
       "      <td>-73.712990</td>\n",
       "      <td>10000.000000</td>\n",
       "      <td>1250.000000</td>\n",
       "      <td>629.000000</td>\n",
       "      <td>58.500000</td>\n",
       "      <td>327.000000</td>\n",
       "      <td>365.000000</td>\n",
       "    </tr>\n",
       "  </tbody>\n",
       "</table>\n",
       "</div>"
      ],
      "text/plain": [
       "                 id       host_id      latitude     longitude         price  \\\n",
       "count  4.889500e+04  4.889500e+04  48895.000000  48895.000000  48895.000000   \n",
       "mean   1.901714e+07  6.762001e+07     40.728949    -73.952170    152.720687   \n",
       "std    1.098311e+07  7.861097e+07      0.054530      0.046157    240.154170   \n",
       "min    2.539000e+03  2.438000e+03     40.499790    -74.244420      0.000000   \n",
       "25%    9.471945e+06  7.822033e+06     40.690100    -73.983070     69.000000   \n",
       "50%    1.967728e+07  3.079382e+07     40.723070    -73.955680    106.000000   \n",
       "75%    2.915218e+07  1.074344e+08     40.763115    -73.936275    175.000000   \n",
       "max    3.648724e+07  2.743213e+08     40.913060    -73.712990  10000.000000   \n",
       "\n",
       "       minimum_nights  number_of_reviews  reviews_per_month  \\\n",
       "count    48895.000000       48895.000000       38843.000000   \n",
       "mean         7.029962          23.274466           1.373221   \n",
       "std         20.510550          44.550582           1.680442   \n",
       "min          1.000000           0.000000           0.010000   \n",
       "25%          1.000000           1.000000           0.190000   \n",
       "50%          3.000000           5.000000           0.720000   \n",
       "75%          5.000000          24.000000           2.020000   \n",
       "max       1250.000000         629.000000          58.500000   \n",
       "\n",
       "       calculated_host_listings_count  availability_365  \n",
       "count                    48895.000000      48895.000000  \n",
       "mean                         7.143982        112.781327  \n",
       "std                         32.952519        131.622289  \n",
       "min                          1.000000          0.000000  \n",
       "25%                          1.000000          0.000000  \n",
       "50%                          1.000000         45.000000  \n",
       "75%                          2.000000        227.000000  \n",
       "max                        327.000000        365.000000  "
      ]
     },
     "execution_count": 37,
     "metadata": {},
     "output_type": "execute_result"
    }
   ],
   "source": [
    "df.describe()"
   ]
  },
  {
   "cell_type": "code",
   "execution_count": 63,
   "metadata": {},
   "outputs": [
    {
     "data": {
      "text/html": [
       "<div>\n",
       "<style scoped>\n",
       "    .dataframe tbody tr th:only-of-type {\n",
       "        vertical-align: middle;\n",
       "    }\n",
       "\n",
       "    .dataframe tbody tr th {\n",
       "        vertical-align: top;\n",
       "    }\n",
       "\n",
       "    .dataframe thead th {\n",
       "        text-align: right;\n",
       "    }\n",
       "</style>\n",
       "<table border=\"1\" class=\"dataframe\">\n",
       "  <thead>\n",
       "    <tr style=\"text-align: right;\">\n",
       "      <th></th>\n",
       "      <th>id</th>\n",
       "      <th>host_id</th>\n",
       "      <th>latitude</th>\n",
       "      <th>longitude</th>\n",
       "      <th>price</th>\n",
       "      <th>minimum_nights</th>\n",
       "      <th>number_of_reviews</th>\n",
       "      <th>calculated_host_listings_count</th>\n",
       "      <th>availability_365</th>\n",
       "    </tr>\n",
       "  </thead>\n",
       "  <tbody>\n",
       "    <tr>\n",
       "      <th>id</th>\n",
       "      <td>1.000000</td>\n",
       "      <td>0.588290</td>\n",
       "      <td>-0.003125</td>\n",
       "      <td>0.090908</td>\n",
       "      <td>0.010619</td>\n",
       "      <td>-0.013224</td>\n",
       "      <td>-0.319760</td>\n",
       "      <td>0.133272</td>\n",
       "      <td>0.085468</td>\n",
       "    </tr>\n",
       "    <tr>\n",
       "      <th>host_id</th>\n",
       "      <td>0.588290</td>\n",
       "      <td>1.000000</td>\n",
       "      <td>0.020224</td>\n",
       "      <td>0.127055</td>\n",
       "      <td>0.015309</td>\n",
       "      <td>-0.017364</td>\n",
       "      <td>-0.140106</td>\n",
       "      <td>0.154950</td>\n",
       "      <td>0.203492</td>\n",
       "    </tr>\n",
       "    <tr>\n",
       "      <th>latitude</th>\n",
       "      <td>-0.003125</td>\n",
       "      <td>0.020224</td>\n",
       "      <td>1.000000</td>\n",
       "      <td>0.084788</td>\n",
       "      <td>0.033939</td>\n",
       "      <td>0.024869</td>\n",
       "      <td>-0.015389</td>\n",
       "      <td>0.019517</td>\n",
       "      <td>-0.010983</td>\n",
       "    </tr>\n",
       "    <tr>\n",
       "      <th>longitude</th>\n",
       "      <td>0.090908</td>\n",
       "      <td>0.127055</td>\n",
       "      <td>0.084788</td>\n",
       "      <td>1.000000</td>\n",
       "      <td>-0.150019</td>\n",
       "      <td>-0.062747</td>\n",
       "      <td>0.059094</td>\n",
       "      <td>-0.114713</td>\n",
       "      <td>0.082731</td>\n",
       "    </tr>\n",
       "    <tr>\n",
       "      <th>price</th>\n",
       "      <td>0.010619</td>\n",
       "      <td>0.015309</td>\n",
       "      <td>0.033939</td>\n",
       "      <td>-0.150019</td>\n",
       "      <td>1.000000</td>\n",
       "      <td>0.042799</td>\n",
       "      <td>-0.047954</td>\n",
       "      <td>0.057472</td>\n",
       "      <td>0.081829</td>\n",
       "    </tr>\n",
       "    <tr>\n",
       "      <th>minimum_nights</th>\n",
       "      <td>-0.013224</td>\n",
       "      <td>-0.017364</td>\n",
       "      <td>0.024869</td>\n",
       "      <td>-0.062747</td>\n",
       "      <td>0.042799</td>\n",
       "      <td>1.000000</td>\n",
       "      <td>-0.080116</td>\n",
       "      <td>0.127960</td>\n",
       "      <td>0.144303</td>\n",
       "    </tr>\n",
       "    <tr>\n",
       "      <th>number_of_reviews</th>\n",
       "      <td>-0.319760</td>\n",
       "      <td>-0.140106</td>\n",
       "      <td>-0.015389</td>\n",
       "      <td>0.059094</td>\n",
       "      <td>-0.047954</td>\n",
       "      <td>-0.080116</td>\n",
       "      <td>1.000000</td>\n",
       "      <td>-0.072376</td>\n",
       "      <td>0.172028</td>\n",
       "    </tr>\n",
       "    <tr>\n",
       "      <th>calculated_host_listings_count</th>\n",
       "      <td>0.133272</td>\n",
       "      <td>0.154950</td>\n",
       "      <td>0.019517</td>\n",
       "      <td>-0.114713</td>\n",
       "      <td>0.057472</td>\n",
       "      <td>0.127960</td>\n",
       "      <td>-0.072376</td>\n",
       "      <td>1.000000</td>\n",
       "      <td>0.225701</td>\n",
       "    </tr>\n",
       "    <tr>\n",
       "      <th>availability_365</th>\n",
       "      <td>0.085468</td>\n",
       "      <td>0.203492</td>\n",
       "      <td>-0.010983</td>\n",
       "      <td>0.082731</td>\n",
       "      <td>0.081829</td>\n",
       "      <td>0.144303</td>\n",
       "      <td>0.172028</td>\n",
       "      <td>0.225701</td>\n",
       "      <td>1.000000</td>\n",
       "    </tr>\n",
       "  </tbody>\n",
       "</table>\n",
       "</div>"
      ],
      "text/plain": [
       "                                      id   host_id  latitude  longitude  \\\n",
       "id                              1.000000  0.588290 -0.003125   0.090908   \n",
       "host_id                         0.588290  1.000000  0.020224   0.127055   \n",
       "latitude                       -0.003125  0.020224  1.000000   0.084788   \n",
       "longitude                       0.090908  0.127055  0.084788   1.000000   \n",
       "price                           0.010619  0.015309  0.033939  -0.150019   \n",
       "minimum_nights                 -0.013224 -0.017364  0.024869  -0.062747   \n",
       "number_of_reviews              -0.319760 -0.140106 -0.015389   0.059094   \n",
       "calculated_host_listings_count  0.133272  0.154950  0.019517  -0.114713   \n",
       "availability_365                0.085468  0.203492 -0.010983   0.082731   \n",
       "\n",
       "                                   price  minimum_nights  number_of_reviews  \\\n",
       "id                              0.010619       -0.013224          -0.319760   \n",
       "host_id                         0.015309       -0.017364          -0.140106   \n",
       "latitude                        0.033939        0.024869          -0.015389   \n",
       "longitude                      -0.150019       -0.062747           0.059094   \n",
       "price                           1.000000        0.042799          -0.047954   \n",
       "minimum_nights                  0.042799        1.000000          -0.080116   \n",
       "number_of_reviews              -0.047954       -0.080116           1.000000   \n",
       "calculated_host_listings_count  0.057472        0.127960          -0.072376   \n",
       "availability_365                0.081829        0.144303           0.172028   \n",
       "\n",
       "                                calculated_host_listings_count  \\\n",
       "id                                                    0.133272   \n",
       "host_id                                               0.154950   \n",
       "latitude                                              0.019517   \n",
       "longitude                                            -0.114713   \n",
       "price                                                 0.057472   \n",
       "minimum_nights                                        0.127960   \n",
       "number_of_reviews                                    -0.072376   \n",
       "calculated_host_listings_count                        1.000000   \n",
       "availability_365                                      0.225701   \n",
       "\n",
       "                                availability_365  \n",
       "id                                      0.085468  \n",
       "host_id                                 0.203492  \n",
       "latitude                               -0.010983  \n",
       "longitude                               0.082731  \n",
       "price                                   0.081829  \n",
       "minimum_nights                          0.144303  \n",
       "number_of_reviews                       0.172028  \n",
       "calculated_host_listings_count          0.225701  \n",
       "availability_365                        1.000000  "
      ]
     },
     "execution_count": 63,
     "metadata": {},
     "output_type": "execute_result"
    }
   ],
   "source": [
    "# Here I am using correlation on the entire dataset across all the different columns\n",
    "# This is basically to help me see if there is any relationship between the different variables I will be looking at \n",
    "df.corr()"
   ]
  },
  {
   "cell_type": "code",
   "execution_count": 39,
   "metadata": {},
   "outputs": [
    {
     "data": {
      "text/plain": [
       "id                                    0\n",
       "name                                 16\n",
       "host_id                               0\n",
       "host_name                            21\n",
       "neighbourhood_group                   0\n",
       "neighbourhood                         0\n",
       "latitude                              0\n",
       "longitude                             0\n",
       "room_type                             0\n",
       "price                                 0\n",
       "minimum_nights                        0\n",
       "number_of_reviews                     0\n",
       "last_review                       10052\n",
       "reviews_per_month                 10052\n",
       "calculated_host_listings_count        0\n",
       "availability_365                      0\n",
       "dtype: int64"
      ]
     },
     "execution_count": 39,
     "metadata": {},
     "output_type": "execute_result"
    }
   ],
   "source": [
    "df.isnull().sum()"
   ]
  },
  {
   "cell_type": "code",
   "execution_count": null,
   "metadata": {},
   "outputs": [],
   "source": []
  },
  {
   "cell_type": "markdown",
   "metadata": {},
   "source": [
    "## Dealing With Missing Values"
   ]
  },
  {
   "cell_type": "markdown",
   "metadata": {},
   "source": [
    "From the cell above, we realize that some columns have missing data, for example, the name has 16 missing values, hostname has 21 missing vlaues , last review and reviews_per_month have 10052 missing values so in the cells below we are going to be dealing with the missing values in the different columns\n",
    "\n",
    "Since the question we are trying to answer in this project will mainly be focusing on the neighborhood, neighborhood group and the minimum number of nights, then i think that most of the other columns are not really necessary so here we will just be deleting the columns from our dataset\n"
   ]
  },
  {
   "cell_type": "code",
   "execution_count": 40,
   "metadata": {},
   "outputs": [],
   "source": [
    "# Deleting the other columns that are not needed for the exploration\n",
    "\n",
    "del df['name']\n",
    "del df['last_review']\n",
    "del df['reviews_per_month']\n",
    "del df['host_name']"
   ]
  },
  {
   "cell_type": "code",
   "execution_count": 64,
   "metadata": {},
   "outputs": [
    {
     "data": {
      "text/html": [
       "<div>\n",
       "<style scoped>\n",
       "    .dataframe tbody tr th:only-of-type {\n",
       "        vertical-align: middle;\n",
       "    }\n",
       "\n",
       "    .dataframe tbody tr th {\n",
       "        vertical-align: top;\n",
       "    }\n",
       "\n",
       "    .dataframe thead th {\n",
       "        text-align: right;\n",
       "    }\n",
       "</style>\n",
       "<table border=\"1\" class=\"dataframe\">\n",
       "  <thead>\n",
       "    <tr style=\"text-align: right;\">\n",
       "      <th></th>\n",
       "      <th>id</th>\n",
       "      <th>host_id</th>\n",
       "      <th>neighbourhood_group</th>\n",
       "      <th>neighbourhood</th>\n",
       "      <th>latitude</th>\n",
       "      <th>longitude</th>\n",
       "      <th>room_type</th>\n",
       "      <th>price</th>\n",
       "      <th>minimum_nights</th>\n",
       "      <th>number_of_reviews</th>\n",
       "      <th>calculated_host_listings_count</th>\n",
       "      <th>availability_365</th>\n",
       "    </tr>\n",
       "  </thead>\n",
       "  <tbody>\n",
       "  </tbody>\n",
       "</table>\n",
       "</div>"
      ],
      "text/plain": [
       "Empty DataFrame\n",
       "Columns: [id, host_id, neighbourhood_group, neighbourhood, latitude, longitude, room_type, price, minimum_nights, number_of_reviews, calculated_host_listings_count, availability_365]\n",
       "Index: []"
      ]
     },
     "execution_count": 64,
     "metadata": {},
     "output_type": "execute_result"
    }
   ],
   "source": [
    "# Inorder to confirm if we have been able to properly deal with the neighborhoods, I will be loading the dataframe again\n",
    "# But then this time around loading only the rows that have missing value\n",
    "df[df.isnull().any(axis=1)]"
   ]
  },
  {
   "cell_type": "code",
   "execution_count": 65,
   "metadata": {},
   "outputs": [
    {
     "data": {
      "text/plain": [
       "id                                0\n",
       "host_id                           0\n",
       "neighbourhood_group               0\n",
       "neighbourhood                     0\n",
       "latitude                          0\n",
       "longitude                         0\n",
       "room_type                         0\n",
       "price                             0\n",
       "minimum_nights                    0\n",
       "number_of_reviews                 0\n",
       "calculated_host_listings_count    0\n",
       "availability_365                  0\n",
       "dtype: int64"
      ]
     },
     "execution_count": 65,
     "metadata": {},
     "output_type": "execute_result"
    }
   ],
   "source": [
    "df.isnull().sum()"
   ]
  },
  {
   "cell_type": "markdown",
   "metadata": {},
   "source": [
    "Right now we can see that there are no more null values in our dataset hence we are set to start off with analysis and answering the question\n",
    "\n",
    "Firstly, we will start by grouping the data into its different neighborhoods, \n",
    "Secondly we will group it by the different category of houses that are in these neighborhoods\n",
    "The rational behind this is that since we want to get a general sense of how each category is doing in regards to the number of minimum nights spent we need to get an average and one of the ways to approach it, is by grouping the dataframe"
   ]
  },
  {
   "cell_type": "code",
   "execution_count": 75,
   "metadata": {},
   "outputs": [],
   "source": [
    "neighborhood_df = df.groupby(['neighbourhood_group'])['minimum_nights'].mean()"
   ]
  },
  {
   "cell_type": "code",
   "execution_count": 77,
   "metadata": {},
   "outputs": [
    {
     "data": {
      "text/plain": [
       "neighbourhood_group\n",
       "Bronx            4.560953\n",
       "Brooklyn         6.056556\n",
       "Manhattan        8.579151\n",
       "Queens           5.181433\n",
       "Staten Island    4.831099\n",
       "Name: minimum_nights, dtype: float64"
      ]
     },
     "execution_count": 77,
     "metadata": {},
     "output_type": "execute_result"
    }
   ],
   "source": [
    "neighborhood_df"
   ]
  },
  {
   "cell_type": "code",
   "execution_count": 76,
   "metadata": {},
   "outputs": [
    {
     "data": {
      "image/png": "[encoded data removed]",
      "text/plain": [
       "<Figure size 1080x720 with 1 Axes>"
      ]
     },
     "metadata": {
      "needs_background": "light"
     },
     "output_type": "display_data"
    }
   ],
   "source": [
    "neighborhood_df.plot(kind='bar', figsize=(15,10))\n",
    "plt.title('Neighborhood and the average minimum nights spent')\n",
    "plt.xlabel('Average Minumnum Night')\n",
    "plt.ylabel('Neighborhood')\n",
    "plt.savefig('neighborhood.png')\n",
    "plt.show()"
   ]
  },
  {
   "cell_type": "code",
   "execution_count": 66,
   "metadata": {},
   "outputs": [],
   "source": [
    "grouped_df = df.groupby(['neighbourhood_group', 'room_type'])['minimum_nights'].mean()"
   ]
  },
  {
   "cell_type": "code",
   "execution_count": 67,
   "metadata": {},
   "outputs": [
    {
     "data": {
      "text/plain": [
       "neighbourhood_group  room_type      \n",
       "Bronx                Entire home/apt     5.957784\n",
       "                     Private room        3.858896\n",
       "                     Shared room         3.366667\n",
       "Brooklyn             Entire home/apt     6.531332\n",
       "                     Private room        5.539479\n",
       "                     Shared room         7.753027\n",
       "Manhattan            Entire home/apt    10.539283\n",
       "                     Private room        5.446880\n",
       "                     Shared room         6.766667\n",
       "Queens               Entire home/apt     5.369752\n",
       "                     Private room        5.120107\n",
       "                     Shared room         4.232323\n",
       "Staten Island        Entire home/apt     6.238636\n",
       "                     Private room        3.632979\n",
       "                     Shared room         2.333333\n",
       "Name: minimum_nights, dtype: float64"
      ]
     },
     "execution_count": 67,
     "metadata": {},
     "output_type": "execute_result"
    }
   ],
   "source": [
    "grouped_df"
   ]
  },
  {
   "cell_type": "markdown",
   "metadata": {},
   "source": [
    "The rationale behind using a bar chart in order to display this is mainly because, it works well with displaying categorical data and we will be able to easily see disparities among the different neighborhoods as shown below"
   ]
  },
  {
   "cell_type": "code",
   "execution_count": 78,
   "metadata": {},
   "outputs": [
    {
     "data": {
      "image/png": "[encoded data removed]",
      "text/plain": [
       "<Figure size 1080x720 with 1 Axes>"
      ]
     },
     "metadata": {
      "needs_background": "light"
     },
     "output_type": "display_data"
    }
   ],
   "source": [
    "grouped_df.plot(kind='bar', figsize=(15,10), color='g')\n",
    "plt.title('Neighborhood room categories and the average minimum nights spent')\n",
    "plt.xlabel('Average Minumnum Night')\n",
    "plt.ylabel('Neighborhood Room Type')\n",
    "plt.savefig('bar1.png')\n",
    "plt.show()"
   ]
  },
  {
   "cell_type": "code",
   "execution_count": 51,
   "metadata": {},
   "outputs": [],
   "source": [
    "price_df = df.groupby(['neighbourhood_group', 'room_type'])['price'].mean()"
   ]
  },
  {
   "cell_type": "code",
   "execution_count": 52,
   "metadata": {},
   "outputs": [
    {
     "data": {
      "text/plain": [
       "neighbourhood_group  room_type      \n",
       "Bronx                Entire home/apt    127.506596\n",
       "                     Private room        66.788344\n",
       "                     Shared room         59.800000\n",
       "Brooklyn             Entire home/apt    178.327545\n",
       "                     Private room        76.500099\n",
       "                     Shared room         50.527845\n",
       "Manhattan            Entire home/apt    249.239109\n",
       "                     Private room       116.776622\n",
       "                     Shared room         88.977083\n",
       "Queens               Entire home/apt    147.050573\n",
       "                     Private room        71.762456\n",
       "                     Shared room         69.020202\n",
       "Staten Island        Entire home/apt    173.846591\n",
       "                     Private room        62.292553\n",
       "                     Shared room         57.444444\n",
       "Name: price, dtype: float64"
      ]
     },
     "execution_count": 52,
     "metadata": {},
     "output_type": "execute_result"
    }
   ],
   "source": [
    "price_df"
   ]
  },
  {
   "cell_type": "code",
   "execution_count": 74,
   "metadata": {},
   "outputs": [
    {
     "data": {
      "image/png": "[encoded data removed]",
      "text/plain": [
       "<Figure size 1080x720 with 1 Axes>"
      ]
     },
     "metadata": {
      "needs_background": "light"
     },
     "output_type": "display_data"
    }
   ],
   "source": [
    "grouped_df.plot(kind='bar', figsize=(15,10), color='r')\n",
    "\n",
    "plt.title('Room type in each neighboorhood vs average price')\n",
    "plt.xlabel(\"Average Price\")\n",
    "plt.ylabel('Room Category in neighborhood')\n",
    "plt.savefig('bar2.png')\n",
    "plt.show()"
   ]
  },
  {
   "cell_type": "markdown",
   "metadata": {},
   "source": [
    "## Recommendation"
   ]
  },
  {
   "cell_type": "markdown",
   "metadata": {},
   "source": [
    "Based on the two graphs above, we can see that The neighborhood that has the highest average number of nights spent is _Manhattan_  and the room type is Entire home/apt with an average of 10.539283 minimum nights spent and _state island_ is the neighboorhood with the least avergae number of nights spent and the room type is shared_room. \n",
    "\n",
    "To answer the question stated above, the top 3 neighborhoods with longer minimum nights spent are \n",
    "\n",
    "* neighborhood: Manhathan || minimum_nights: 8.579151\n",
    "* neighborhood: Brooklyn || minimum_nights:\n",
    "* Neighbirhood: \n",
    "\n",
    "\n",
    "and the top 3 neighboorhoods by room types with longer minimum nights spent are:\n",
    "\n",
    "* neighborhood: Manhathan || room type: Entire home.apt || minimum_nights: 10.539283\n",
    "* neighborhood: Brooklyn  || room type: shared room || minimum_nights: 7.753027\n",
    "* neighborhood: Manhathan || room type: shared room || minimum_nights: 6.766667\n",
    "\n",
    "Just so that people can further weigh their options, I added another group wiith the average prices of the different locations so that people can further get a sense of what they would actually go for\n",
    "\n",
    "The top locations by the highest avergae price is Manhathan for an entire apartment and the least is State island and for shared rooms\n",
    "\n",
    "\n",
    "Looking at the above information, I believe that people can be able to make decisions on which neighborhoods they would probably prefer to go to when they want to visit New York City, As you can see though Manhathan entire home.apt seems to have the longest minimum hours spent by most of the people who have lived there, it turns out to be the most expensive place among all the nighboorhood categories to live in so I beleive this can help give people an idea of where they would love to live in based on their preferences, \n",
    "\n",
    "Also someone may just want to live in New york City for a short time and is not really bothered about preferences with probably a small budget can always move into state island since it seems to be a better option in such a scenario\n",
    "\n",
    "\n",
    "The above recommendations are not 100% reasons why someone should want to move into any of these areas, thought yes, the average number of minimum nights is important as well as the average price in those locations, some other factors such as the reviews and the actual cordinate location of the houses could as well be some other major factors to consider looking at. This project focused mainly on answering the question that was stated above and I believe I have been able to meet the expectations I set out when I was starting the project \n"
   ]
  },
  {
   "cell_type": "markdown",
   "metadata": {},
   "source": [
    "## Methodology/Thought Process\n",
    "\n",
    "The first thing I did when I saw the prompt on trying to answer a question a question with data, the first thing that came to my mind is finding a suitable dataset that I can use in order to answer any question from\n",
    "\n",
    "* I Started out by searching through kaggle to see if I could find anything interesting and then I found this dataset on airbnb\n",
    "\n",
    "* Secondly I loaded the dataset with pandas and looked at the different columns that are in the dataframe and their datatypes, this was mainly to help me coin out a question from it, After seeing the dataset the first thing that came to mu mind was the neighborhoods and I thought I could start from there, which is why I decided to frame my question around the different neigborhoods that have had a track record of keeping people in for a longer period of time\n",
    "\n",
    "* Next I tried to look for missig values in the dataset, fortunately enough the columns that had missing values were of no use to me in regards to answering the question I had in mind, so I just deleted them completely from the dataframe\n",
    "\n",
    "* After getting this, I then grouped the dataframe by the different neighborhoods and followed by their different room types, this is mainly because people have their prefences and though a particular area may have had people living in it for longer period of time, it could not also have been in their kind of room prefernces\n",
    "\n",
    "* I also visualized the different groups, the major reason why I used a bar chat is because I believed it was going to be the best way for me to display the dsiparity that could occur among the different categories, It is able to clearly show the values of each category in a way that one can easily identify from it the best possible location to settle in \n",
    "\n",
    "* As an additional bonus, I decided to also group the neighboorhoods and the room type by the average price in these locations, I believe this will further give a potential user a borader idea of why he should choose a particular location while looking at his/her pcoket as well"
   ]
  },
  {
   "cell_type": "code",
   "execution_count": null,
   "metadata": {},
   "outputs": [],
   "source": []
  }
 ],
 "metadata": {
  "kernelspec": {
   "display_name": "Python 3",
   "language": "python",
   "name": "python3"
  },
  "language_info": {
   "codemirror_mode": {
    "name": "ipython",
    "version": 3
   },
   "file_extension": ".py",
   "mimetype": "text/x-python",
   "name": "python",
   "nbconvert_exporter": "python",
   "pygments_lexer": "ipython3",
   "version": "3.8.5"
  }
 },
 "nbformat": 4,
 "nbformat_minor": 4
}
